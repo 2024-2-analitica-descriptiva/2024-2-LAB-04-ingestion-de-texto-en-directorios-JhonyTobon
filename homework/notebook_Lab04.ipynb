{
 "cells": [
  {
   "cell_type": "code",
   "execution_count": 20,
   "metadata": {},
   "outputs": [
    {
     "name": "stdout",
     "output_type": "stream",
     "text": [
      "Archivos 'train.csv' y 'test.csv' guardados en ../files/output.\n"
     ]
    }
   ],
   "source": [
    "import os\n",
    "import zipfile\n",
    "import pandas as pd\n",
    "\n",
    "zip_file_path = '../files/input.zip'\n",
    "extract_to = '../files/'\n",
    "\n",
    "os.makedirs (extract_to, exist_ok=True)\n",
    "\n",
    "with zipfile.ZipFile(zip_file_path, 'r') as zip_ref:\n",
    "    zip_ref.extractall(extract_to)\n",
    "\n",
    "def load_text(directory):\n",
    "    data = []\n",
    "\n",
    "    for target in ['negative','positive','neutral']:\n",
    "        target_path = os.path.join('..','files','input', directory, target)\n",
    "\n",
    "        if not os.path.exists(target_path):\n",
    "            print(f'El directorio {target_path} no existe.')\n",
    "            continue\n",
    "\n",
    "        for file_name in os.listdir(target_path):\n",
    "            if file_name.endswith('.txt'):\n",
    "                file_path = os.path.join(target_path, file_name)\n",
    "\n",
    "\n",
    "                with open(file_path,'r', encoding='utf-8') as file:\n",
    "                    content = file.read().strip()\n",
    "\n",
    "                data.append({\n",
    "                    'phrase': content,  # Guardar el contenido del archivo en la columna 'phrase'\n",
    "                    'target': target     # Guardar la categoría (negative, positive, neutral) en la columna 'target'\n",
    "                })\n",
    "\n",
    "    df = pd.DataFrame(data)\n",
    "\n",
    "    return df\n",
    "\n",
    "df_train = load_text('train')\n",
    "df_test = load_text('test')\n",
    "\n",
    "output_dir = '../files/output'\n",
    "if not os.path.exists(output_dir):\n",
    "    os.makedirs(output_dir)\n",
    "    print(f\"Carpeta {output_dir} creada.\")\n",
    "\n",
    "df_train.to_csv(os.path.join(output_dir, 'train_dataset.csv'), index = False)\n",
    "df_test.to_csv(os.path.join(output_dir, 'test_dataset.csv'), index = False)\n",
    " \n",
    "\n",
    "print(f\"Archivos 'train.csv' y 'test.csv' guardados en {output_dir}.\")\n"
   ]
  }
 ],
 "metadata": {
  "kernelspec": {
   "display_name": ".venv",
   "language": "python",
   "name": "python3"
  },
  "language_info": {
   "codemirror_mode": {
    "name": "ipython",
    "version": 3
   },
   "file_extension": ".py",
   "mimetype": "text/x-python",
   "name": "python",
   "nbconvert_exporter": "python",
   "pygments_lexer": "ipython3",
   "version": "3.10.9"
  }
 },
 "nbformat": 4,
 "nbformat_minor": 2
}
